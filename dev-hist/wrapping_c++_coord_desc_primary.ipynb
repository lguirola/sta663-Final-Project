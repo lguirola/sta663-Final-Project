{
 "cells": [
  {
   "cell_type": "code",
   "execution_count": 1,
   "metadata": {
    "collapsed": false
   },
   "outputs": [
    {
     "name": "stdout",
     "output_type": "stream",
     "text": [
      "Overwriting cpp_regularized_linear_regression.hpp\n"
     ]
    }
   ],
   "source": [
    "%%file cpp_regularized_linear_regression.hpp\n",
    "double* coordinate_descent(double *data_x, double *data_y, double *beta, int num_samples, int num_features);"
   ]
  },
  {
   "cell_type": "code",
   "execution_count": 2,
   "metadata": {
    "collapsed": false
   },
   "outputs": [
    {
     "name": "stdout",
     "output_type": "stream",
     "text": [
      "Overwriting cpp_regularized_linear_regression.cpp\n"
     ]
    }
   ],
   "source": [
    "%%file cpp_regularized_linear_regression.cpp\n",
    "#include <iostream>\n",
    "#include <cmath>\n",
    "#define ARMA_DONT_USE_WRAPPER\n",
    "#include <armadillo>\n",
    "\n",
    "\n",
    "using namespace std;\n",
    "using namespace arma;\n",
    "\n",
    "double S(double z, double gamma) {  \n",
    "    \n",
    "    return 100.5;\n",
    "    \n",
    "    if (z >= 0){\n",
    "        if (z - gamma > 0){\n",
    "            return z - gamma;\n",
    "        }\n",
    "        else {\n",
    "            return 0;\n",
    "        }\n",
    "    }\n",
    "    else {\n",
    "        if (z + gamma > 0){\n",
    "            return z + gamma;\n",
    "        }\n",
    "        else {\n",
    "            return 0;\n",
    "        }\n",
    "    }\n",
    "}\n",
    "    \n",
    "\n",
    "double* coordinate_descent(double *data_x, double *data_y, double *beta, int num_samples, int num_features){\n",
    "    double alpha=1, L1_ratio=0.5;\n",
    "    int itr, j;\n",
    "    mat X;\n",
    "    vec y, b, b_new;\n",
    "    X = mat(data_x, num_samples, num_features);\n",
    "    y = vec(data_y, num_samples);\n",
    "    b = vec(beta, num_features);\n",
    "    \n",
    "    for(itr=0; itr<1000; itr++){\n",
    "        for(j=0; j<num_features; j++){\n",
    "            b_new[j] = S(1.0 * arma::dot (X.col(j), y - (arma::dot (X, b) - (X.col(j) * b(j)))), 1*0.5) / (1 + alpha*(1-L1_ratio));\n",
    "        }\n",
    "        \n",
    "        b = b_new;\n",
    "    }\n",
    "    \n",
    "    for(int i=0;i<num_features;i++){\n",
    "        beta[i] = b[i];\n",
    "    }\n",
    "    \n",
    "    return beta;\n",
    "    \n",
    "}\n",
    "\n"
   ]
  },
  {
   "cell_type": "code",
   "execution_count": 3,
   "metadata": {
    "collapsed": false
   },
   "outputs": [
    {
     "name": "stdout",
     "output_type": "stream",
     "text": [
      "Overwriting cy_regularized_linear_regression.pxd\n"
     ]
    }
   ],
   "source": [
    "%%file cy_regularized_linear_regression.pxd\n",
    "\n",
    "cdef extern from \"cpp_regularized_linear_regression.hpp\":\n",
    "    double* coordinate_descent(double *data_x, double *data_y, double *beta, int num_samples, int num_features);"
   ]
  },
  {
   "cell_type": "code",
   "execution_count": 4,
   "metadata": {
    "collapsed": false
   },
   "outputs": [
    {
     "name": "stdout",
     "output_type": "stream",
     "text": [
      "Overwriting cy_regularized_linear_regression.pyx\n"
     ]
    }
   ],
   "source": [
    "%%file cy_regularized_linear_regression.pyx\n",
    "# distutils: language = c++\n",
    "# distutils: sources = cpp_regularized_linear_regression.cpp\n",
    "\n",
    "cimport cy_regularized_linear_regression\n",
    "from libc.stdlib cimport malloc, free\n",
    "\n",
    "\n",
    "def py_coord_desc(double[::1] data_x, double[::1] data_y, double[::1] beta_0, int num_samples, int num_features):\n",
    "    cy_regularized_linear_regression.coordinate_descent(&data_x[0], &data_y[0], &beta_0[0], num_samples, num_features)"
   ]
  },
  {
   "cell_type": "code",
   "execution_count": 8,
   "metadata": {
    "collapsed": false
   },
   "outputs": [
    {
     "name": "stdout",
     "output_type": "stream",
     "text": [
      "Overwriting setup.py\n"
     ]
    }
   ],
   "source": [
    "%%file setup.py\n",
    "\n",
    "from distutils.core import setup, Extension\n",
    "from Cython.Build import cythonize\n",
    "import numpy as np\n",
    "\n",
    "ext = Extension(\"cy_regularized_linear_regression\",\n",
    "                sources=[\"cy_regularized_linear_regression.pyx\",\"cpp_regularized_linear_regression.cpp\"],\n",
    "                libraries=[\"m\", \"armadillo\", \"lapack\"],\n",
    "                language=[\"c++\"],\n",
    "                extra_compile_args=[\"-std=c++11\",\"-static\"])\n",
    "\n",
    "setup(name = \"cy_regular_linreg\",\n",
    "      ext_modules = cythonize(ext))"
   ]
  },
  {
   "cell_type": "code",
   "execution_count": 9,
   "metadata": {
    "collapsed": false
   },
   "outputs": [
    {
     "name": "stdout",
     "output_type": "stream",
     "text": [
      "running clean\r\n",
      "removing 'build/temp.linux-x86_64-3.4' (and everything under it)\r\n",
      "removing 'build'\r\n"
     ]
    }
   ],
   "source": [
    "! python setup.py clean\n",
    "! python setup.py -q build_ext --inplace"
   ]
  },
  {
   "cell_type": "code",
   "execution_count": 10,
   "metadata": {
    "collapsed": false
   },
   "outputs": [
    {
     "ename": "ImportError",
     "evalue": "/opt/conda/lib/python3.4/site-packages/numpy/core/../../../.././libgfortran.so.3: version `GFORTRAN_1.4' not found (required by /usr/lib/liblapack.so.3)",
     "output_type": "error",
     "traceback": [
      "\u001b[1;31m---------------------------------------------------------------------------\u001b[0m",
      "\u001b[1;31mImportError\u001b[0m                               Traceback (most recent call last)",
      "\u001b[1;32m<ipython-input-10-026dcf48e68a>\u001b[0m in \u001b[0;36m<module>\u001b[1;34m()\u001b[0m\n\u001b[0;32m      7\u001b[0m \u001b[0mdata_X\u001b[0m \u001b[1;33m=\u001b[0m \u001b[0mdata_X\u001b[0m\u001b[1;33m.\u001b[0m\u001b[0mreshape\u001b[0m\u001b[1;33m(\u001b[0m\u001b[1;33m(\u001b[0m\u001b[0mnum_samples\u001b[0m\u001b[1;33m*\u001b[0m\u001b[0mnum_features\u001b[0m\u001b[1;33m,\u001b[0m\u001b[1;33m)\u001b[0m\u001b[1;33m)\u001b[0m\u001b[1;33m\u001b[0m\u001b[0m\n\u001b[0;32m      8\u001b[0m \u001b[1;33m\u001b[0m\u001b[0m\n\u001b[1;32m----> 9\u001b[1;33m \u001b[1;32mimport\u001b[0m \u001b[0mcy_regularized_linear_regression\u001b[0m\u001b[1;33m\u001b[0m\u001b[0m\n\u001b[0m\u001b[0;32m     10\u001b[0m \u001b[1;33m\u001b[0m\u001b[0m\n\u001b[0;32m     11\u001b[0m \u001b[1;33m\u001b[0m\u001b[0m\n",
      "\u001b[1;31mImportError\u001b[0m: /opt/conda/lib/python3.4/site-packages/numpy/core/../../../.././libgfortran.so.3: version `GFORTRAN_1.4' not found (required by /usr/lib/liblapack.so.3)"
     ]
    }
   ],
   "source": [
    "import numpy as np\n",
    "from sklearn import datasets\n",
    "diabetes = datasets.load_diabetes()\n",
    "data_X = diabetes.data\n",
    "data_y = diabetes.target\n",
    "num_samples, num_features = data_X.shape\n",
    "data_X = data_X.reshape((num_samples*num_features,))\n",
    "\n",
    "import cy_regularized_linear_regression\n",
    "\n",
    "\n",
    "beta_0 = np.zeros(num_features)\n",
    "print(beta_0)\n",
    "cy_regularized_linear_regression.py_coord_desc(data_X, data_y, beta_0, num_samples, num_features)\n",
    "print(beta_0)"
   ]
  },
  {
   "cell_type": "code",
   "execution_count": null,
   "metadata": {
    "collapsed": false
   },
   "outputs": [],
   "source": [
    "print('status')"
   ]
  },
  {
   "cell_type": "code",
   "execution_count": null,
   "metadata": {
    "collapsed": true
   },
   "outputs": [],
   "source": []
  },
  {
   "cell_type": "code",
   "execution_count": null,
   "metadata": {
    "collapsed": true
   },
   "outputs": [],
   "source": []
  },
  {
   "cell_type": "code",
   "execution_count": null,
   "metadata": {
    "collapsed": true
   },
   "outputs": [],
   "source": []
  }
 ],
 "metadata": {
  "kernelspec": {
   "display_name": "Python 3",
   "language": "python",
   "name": "python3"
  },
  "language_info": {
   "codemirror_mode": {
    "name": "ipython",
    "version": 3
   },
   "file_extension": ".py",
   "mimetype": "text/x-python",
   "name": "python",
   "nbconvert_exporter": "python",
   "pygments_lexer": "ipython3",
   "version": "3.4.4"
  }
 },
 "nbformat": 4,
 "nbformat_minor": 0
}
