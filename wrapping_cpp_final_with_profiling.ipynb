{
 "cells": [
  {
   "cell_type": "markdown",
   "metadata": {},
   "source": [
    "# Wrapping C++ coordinate descent function in Python with Cython and efficiency comparison\n",
    "\n",
    "Finally successful @ Apr 21, 2016"
   ]
  },
  {
   "cell_type": "markdown",
   "metadata": {},
   "source": [
    "## Import neccessary packages"
   ]
  },
  {
   "cell_type": "code",
   "execution_count": 1,
   "metadata": {
    "collapsed": true
   },
   "outputs": [],
   "source": [
    "import numpy as np\n",
    "import pandas as pd\n",
    "import matplotlib.pyplot as plt\n",
    "%matplotlib inline"
   ]
  },
  {
   "cell_type": "markdown",
   "metadata": {},
   "source": [
    "## Code"
   ]
  },
  {
   "cell_type": "markdown",
   "metadata": {},
   "source": [
    "### Naive Python"
   ]
  },
  {
   "cell_type": "code",
   "execution_count": 2,
   "metadata": {
    "collapsed": true
   },
   "outputs": [],
   "source": [
    "def nv_py_regular_linreg(X, y, beta_0, alpha, L1_ratio, max_iter=1000, tol=0.0001):\n",
    "    def S(z, gamma):\n",
    "        if np.abs(z) - gamma > 0:\n",
    "            return np.sign(z)*(np.abs(z)-gamma)\n",
    "        else:\n",
    "            return 0\n",
    "    N, p = X.shape\n",
    "    beta = beta_0.copy()\n",
    "    b_new = np.zeros(p)\n",
    "    for itr in range(max_iter):\n",
    "        for j in range(p):\n",
    "            b_new[j] = S(1/N * np.dot(X[:,j], (y - (np.dot(X,beta) - np.dot(X[:,j], beta[j]))))\n",
    "                     , alpha*L1_ratio)/(1+alpha*(1-L1_ratio))\n",
    "        beta = b_new\n",
    "    return beta            "
   ]
  },
  {
   "cell_type": "markdown",
   "metadata": {},
   "source": [
    "### Python with ProcessPoolExecutor\n",
    "\n",
    "Actually, in this particular problem, we do not see any neccesity to use multi-processing. Because the only parallelizable part is to compute the each feature vector related quantities, given features dimension will not be as large as 10000, thus the efficiency would not be improved much.\n",
    "\n",
    "While, in fact, the efficiency may be dragged down: the time to set ProcessPool cannot compensate the little gains from parallel computing. The more outer loop (iteration), the more obvious the dragging is."
   ]
  },
  {
   "cell_type": "code",
   "execution_count": 3,
   "metadata": {
    "collapsed": true
   },
   "outputs": [],
   "source": [
    "def deco(j, X, y, N, p, beta, alpha, L1_ratio):\n",
    "    \n",
    "    def S(z, gamma):\n",
    "        if np.abs(z) - gamma > 0:\n",
    "            return np.sign(z)*(np.abs(z)-gamma)\n",
    "        else:\n",
    "            return 0\n",
    "        \n",
    "    return S(1./N*np.dot(X[:,j], (y - (np.dot(X,beta) - np.dot(X[:,j], beta[j]))))\n",
    "                     , alpha*L1_ratio)/(1+alpha*(1-L1_ratio))\n",
    "\n",
    "\n",
    "def mp_py_regular_linreg(X, y, beta_0, alpha, L1_ratio, max_iter=50, tol=0.0001):\n",
    "    from itertools import repeat\n",
    "    from concurrent.futures import ProcessPoolExecutor\n",
    "    \n",
    "    N, p = X.shape\n",
    "    beta = beta_0.copy()\n",
    "    b_new = np.zeros(p)\n",
    "    \n",
    "    for itr in range(max_iter):\n",
    "        with ProcessPoolExecutor(max_workers=8) as pool:\n",
    "            b_new = np.array(list(pool.map(deco, [j for j in range(p)], repeat(X), repeat(y), repeat(N),\n",
    "                                           repeat(p), repeat(beta), repeat(alpha), repeat(L1_ratio))))\n",
    "        beta = b_new\n",
    "    return beta  "
   ]
  },
  {
   "cell_type": "markdown",
   "metadata": {},
   "source": [
    "### Python with C++ wrapped by Cython"
   ]
  },
  {
   "cell_type": "markdown",
   "metadata": {},
   "source": [
    "#### wrting .hpp, .cpp, .pxd, .pyx files and config setup.py"
   ]
  },
  {
   "cell_type": "code",
   "execution_count": 4,
   "metadata": {
    "collapsed": false
   },
   "outputs": [
    {
     "name": "stdout",
     "output_type": "stream",
     "text": [
      "Overwriting cpp_regularized_linreg.hpp\n"
     ]
    }
   ],
   "source": [
    "%%file cpp_regularized_linreg.hpp\n",
    "double estimated_y_i(double *x, int N, int p, double *beta, int i);\n",
    "double compute_intermediate_b(double *x, int m, int n, double *y, double *beta, int j);\n",
    "double S(double z, double gamma);    \n",
    "double* coord_desc(double *x, double *y, int num_samples, int num_features, double *beta, \n",
    "                   double alpha, double L1_ratio, int max_iter, double tol);"
   ]
  },
  {
   "cell_type": "code",
   "execution_count": 5,
   "metadata": {
    "collapsed": false
   },
   "outputs": [
    {
     "name": "stdout",
     "output_type": "stream",
     "text": [
      "Overwriting cpp_regularized_linreg.cpp\n"
     ]
    }
   ],
   "source": [
    "%%file cpp_regularized_linreg.cpp\n",
    "#include <iostream>\n",
    "\n",
    "using namespace std;\n",
    "\n",
    "double estimated_y_i(double *x, int N, int p, double *beta, int i) {\n",
    "\tdouble s = 0;\n",
    "\tint l;\n",
    "\tfor(l = 0; l < p; l++) {\n",
    "\t\ts += x[i*p + l] * beta[l];\n",
    "\t}\n",
    "\treturn s;\n",
    "}\n",
    "\n",
    "\n",
    "double compute_intermediate_b(double *x, int m, int n, double *y, double *beta, int j) {\n",
    "\tdouble res = 0;\n",
    "\tint i;\n",
    "\t\n",
    "\tfor(i = 0; i < m; i++) {\n",
    "\t\tres += x[i*n + j] * (y[i] - estimated_y_i(x, m, n, beta, i));\n",
    "\t}\n",
    "\treturn res;\n",
    "}\n",
    "\n",
    "double S(double z, double gamma) {\n",
    "\tif(z >= 0) {\n",
    "\t\tif (z - gamma > 0) {\n",
    "\t\t\treturn z - gamma;\n",
    "\t\t}\n",
    "\t\telse {\n",
    "\t\t\treturn 0;\n",
    "\t\t}\n",
    "\t}\n",
    "\telse {\n",
    "\t\tif (-z - gamma > 0) {\n",
    "\t\t\treturn z + gamma;\n",
    "\t\t}\n",
    "\t\telse {\n",
    "\t\t\treturn 0;\n",
    "\t\t}\n",
    "\t}\n",
    "}\n",
    "\n",
    "\n",
    "double* coord_desc(double *x, double *y, int num_samples, int num_features, double *beta, \n",
    "                   double alpha, double L1_ratio, int max_iter=1000, double tol=0.0001) {\n",
    "    \n",
    "\tint itr, j, i, \n",
    "    N = num_samples, \n",
    "    p = num_features;\n",
    "    \n",
    "\tdouble bb;\n",
    "    double b[p];\n",
    "    \n",
    "    double beta_new[p];\n",
    "    \n",
    "    double res;\n",
    "    \n",
    "    for(j = 0; j < p; j++){\n",
    "        b[j] = beta[j];\n",
    "    }\n",
    "    \n",
    "\tfor(itr = 0; itr < max_iter; itr++) {\n",
    "\t\tfor(j = 0; j < p; j++) {\n",
    "\t\t       bb = S(b[j] + compute_intermediate_b(x, N, p, y, b, j) / N, alpha*L1_ratio) / (1. + alpha * (1 - L1_ratio));\n",
    "\t\t       beta_new[j] = bb;\n",
    "\t\t}\n",
    "        \n",
    "        for(j = 0; j < p; j++){\n",
    "            b[j] = beta_new[j];\n",
    "        } \n",
    "  \n",
    "\t}\n",
    "    \n",
    "    \n",
    "    \n",
    "    \n",
    "    for(j = 0; j < p; j++){\n",
    "            beta[j] = b[j];\n",
    "        }\n",
    "    \n",
    "\treturn beta;\n",
    "}\n",
    "\n"
   ]
  },
  {
   "cell_type": "code",
   "execution_count": 6,
   "metadata": {
    "collapsed": false
   },
   "outputs": [
    {
     "name": "stdout",
     "output_type": "stream",
     "text": [
      "Overwriting cy_regularized_linreg.pxd\n"
     ]
    }
   ],
   "source": [
    "%%file cy_regularized_linreg.pxd\n",
    "\n",
    "cdef extern from \"cpp_regularized_linreg.hpp\":\n",
    "    double* coord_desc(double *x, double *y, int num_samples, int num_features, double *beta, \n",
    "                       double alpha, double L1_ratio, int max_iter, double tol)"
   ]
  },
  {
   "cell_type": "code",
   "execution_count": 7,
   "metadata": {
    "collapsed": false
   },
   "outputs": [
    {
     "name": "stdout",
     "output_type": "stream",
     "text": [
      "Overwriting cy_regularized_linreg.pyx\n"
     ]
    }
   ],
   "source": [
    "%%file cy_regularized_linreg.pyx\n",
    "# distutils: language = c++\n",
    "# distutils: sources = cpp_regularized_linreg.cpp\n",
    "\n",
    "cimport cy_regularized_linreg\n",
    "\n",
    "def py_regularized_linreg(double[::1] data_x, double[::1] data_y, int num_samples, int num_features, \n",
    "                          double[::1] beta, double alpha, double L1_ratio, int max_iter, double tol):\n",
    "    \n",
    "    cy_regularized_linreg.coord_desc(&data_x[0], &data_y[0], num_samples, num_features, \n",
    "                                                 &beta[0], alpha, L1_ratio, max_iter, tol)"
   ]
  },
  {
   "cell_type": "code",
   "execution_count": 8,
   "metadata": {
    "collapsed": false
   },
   "outputs": [
    {
     "name": "stdout",
     "output_type": "stream",
     "text": [
      "Overwriting setup.py\n"
     ]
    }
   ],
   "source": [
    "%%file setup.py\n",
    "\n",
    "from distutils.core import setup, Extension\n",
    "from Cython.Build import cythonize\n",
    "import numpy as np\n",
    "\n",
    "ext = Extension(\"cy_regularized_linreg\",\n",
    "                sources=[\"cy_regularized_linreg.pyx\",\"cpp_regularized_linreg.cpp\"],\n",
    "                libraries=[\"m\"],\n",
    "                language=[\"c++\"],\n",
    "                extra_compile_args=[\"-std=c++11\",\"-static\"])\n",
    "\n",
    "setup(name = \"cy_regul_linreg\",\n",
    "      ext_modules = cythonize(ext))"
   ]
  },
  {
   "cell_type": "markdown",
   "metadata": {},
   "source": [
    "#### compile"
   ]
  },
  {
   "cell_type": "code",
   "execution_count": 9,
   "metadata": {
    "collapsed": false
   },
   "outputs": [
    {
     "name": "stdout",
     "output_type": "stream",
     "text": [
      "Compiling cy_regularized_linreg.pyx because it changed.\n",
      "Cythonizing cy_regularized_linreg.pyx\n",
      "running clean\n",
      "removing 'build/temp.linux-x86_64-3.4' (and everything under it)\n",
      "removing 'build'\n",
      "cc1plus: warning: command line option '-Wstrict-prototypes' is valid for C/ObjC but not for C++ [enabled by default]\n",
      "cc1plus: warning: command line option '-Wstrict-prototypes' is valid for C/ObjC but not for C++ [enabled by default]\n",
      "cpp_regularized_linreg.cpp: In function 'double* coord_desc(double*, double*, int, int, double*, double, double, int, double)':\n",
      "cpp_regularized_linreg.cpp:48:14: warning: unused variable 'i' [-Wunused-variable]\n",
      "  int itr, j, i, \n",
      "              ^\n",
      "cpp_regularized_linreg.cpp:57:12: warning: unused variable 'res' [-Wunused-variable]\n",
      "     double res;\n",
      "            ^\n"
     ]
    }
   ],
   "source": [
    "! python setup.py clean\n",
    "! python setup.py -q build_ext --inplace"
   ]
  },
  {
   "cell_type": "markdown",
   "metadata": {
    "collapsed": true
   },
   "source": [
    "## Justify solutions with data and scikit-learn"
   ]
  },
  {
   "cell_type": "code",
   "execution_count": 11,
   "metadata": {
    "collapsed": true
   },
   "outputs": [],
   "source": [
    "from sklearn import datasets\n",
    "from sklearn.preprocessing import scale"
   ]
  },
  {
   "cell_type": "markdown",
   "metadata": {},
   "source": [
    "### choose randomly generated large scale sparse data"
   ]
  },
  {
   "cell_type": "code",
   "execution_count": 12,
   "metadata": {
    "collapsed": false
   },
   "outputs": [
    {
     "name": "stdout",
     "output_type": "stream",
     "text": [
      "(5000, 20) (5000,)\n"
     ]
    }
   ],
   "source": [
    "## generate data\n",
    "np.random.seed(42)\n",
    "\n",
    "n_samples, n_features = 5000, 20\n",
    "data_X = np.random.randn(n_samples, n_features)\n",
    "coef = 3 * np.random.randn(n_features)\n",
    "inds = np.arange(n_features)\n",
    "np.random.shuffle(inds)\n",
    "coef[inds[10:]] = 0  # sparsify coef\n",
    "data_y = np.dot(data_X, coef)\n",
    "# add noise\n",
    "data_y += 0.02 * np.random.normal((n_samples,))\n",
    "\n",
    "## standardize data\n",
    "X, y = scale(data_X, axis=0), scale(data_y)\n",
    "print(X.shape, y.shape)\n",
    "\n",
    "## resahpe data into 1D\n",
    "X_resh = X.reshape((n_samples*n_features,))\n",
    "num_samples, num_features = n_samples, n_features"
   ]
  },
  {
   "cell_type": "markdown",
   "metadata": {},
   "source": [
    "### choose sklearn data"
   ]
  },
  {
   "cell_type": "code",
   "execution_count": 13,
   "metadata": {
    "collapsed": false
   },
   "outputs": [
    {
     "name": "stdout",
     "output_type": "stream",
     "text": [
      "(442, 10) (442,)\n"
     ]
    }
   ],
   "source": [
    "ds = datasets.load_diabetes()\n",
    "data_X = ds.data\n",
    "data_y = ds.target\n",
    "num_samples, num_features = data_X.shape\n",
    "print(data_X.shape, data_y.shape)\n",
    "\n",
    "## standardize data\n",
    "X, y = scale(data_X, axis=0), scale(data_y)\n",
    "\n",
    "## resahpe data into 1D\n",
    "X_resh = X.reshape((num_samples*num_features,))"
   ]
  },
  {
   "cell_type": "markdown",
   "metadata": {},
   "source": [
    "### scikit-learn results"
   ]
  },
  {
   "cell_type": "markdown",
   "metadata": {},
   "source": [
    "#### lasso\n",
    "$\\alpha = 0.5$"
   ]
  },
  {
   "cell_type": "code",
   "execution_count": 14,
   "metadata": {
    "collapsed": false
   },
   "outputs": [
    {
     "name": "stdout",
     "output_type": "stream",
     "text": [
      "[ 0.          0.          0.07123662  0.          0.          0.         -0.\n",
      "  0.          0.03410059  0.        ]\n"
     ]
    }
   ],
   "source": [
    "from sklearn.linear_model import Lasso\n",
    "lasso = Lasso(alpha=0.5)\n",
    "lasso.fit(X, y)\n",
    "print(lasso.coef_)"
   ]
  },
  {
   "cell_type": "markdown",
   "metadata": {},
   "source": [
    "#### elastic net\n",
    "$\\alpha = 1$,\n",
    "\n",
    "$L1\\_ratio = 0.5$"
   ]
  },
  {
   "cell_type": "code",
   "execution_count": 15,
   "metadata": {
    "collapsed": false
   },
   "outputs": [
    {
     "name": "stdout",
     "output_type": "stream",
     "text": [
      "[ 0.        0.        0.048895  0.        0.        0.       -0.        0.\n",
      "  0.029379  0.      ]\n"
     ]
    }
   ],
   "source": [
    "from sklearn.linear_model import ElasticNet\n",
    "enet = ElasticNet(alpha=1, l1_ratio=0.5)\n",
    "enet.fit(X, y)\n",
    "print(enet.coef_)"
   ]
  },
  {
   "cell_type": "markdown",
   "metadata": {},
   "source": [
    "### our results: Python with wrapped C++ by Cython"
   ]
  },
  {
   "cell_type": "markdown",
   "metadata": {},
   "source": [
    "#### lasso\n",
    "$\\alpha = 0.5$"
   ]
  },
  {
   "cell_type": "code",
   "execution_count": 16,
   "metadata": {
    "collapsed": false
   },
   "outputs": [
    {
     "name": "stdout",
     "output_type": "stream",
     "text": [
      "[ 0.          0.          0.07123567  0.          0.          0.          0.\n",
      "  0.          0.03410101  0.        ]\n"
     ]
    }
   ],
   "source": [
    "import cy_regularized_linreg\n",
    "beta = np.zeros(num_features)\n",
    "cy_regularized_linreg.py_regularized_linreg(X_resh, y, num_samples, num_features, beta, 0.5, 1, 1000, 0.001)\n",
    "print(beta)"
   ]
  },
  {
   "cell_type": "markdown",
   "metadata": {},
   "source": [
    "#### elastic net\n",
    "$\\alpha = 1$,\n",
    "\n",
    "$L1\\_ratio = 0.5$"
   ]
  },
  {
   "cell_type": "code",
   "execution_count": 17,
   "metadata": {
    "collapsed": false
   },
   "outputs": [
    {
     "name": "stdout",
     "output_type": "stream",
     "text": [
      "[ 0.          0.          0.04889496  0.          0.          0.          0.\n",
      "  0.          0.02937901  0.        ]\n"
     ]
    }
   ],
   "source": [
    "beta = np.zeros(num_features)\n",
    "cy_regularized_linreg.py_regularized_linreg(X_resh, y, num_samples, num_features, beta, 1, 0.5, 1000, 0.001)\n",
    "print(beta)"
   ]
  },
  {
   "cell_type": "markdown",
   "metadata": {},
   "source": [
    "## Comparing efficiency"
   ]
  },
  {
   "cell_type": "markdown",
   "metadata": {},
   "source": [
    "### lasso"
   ]
  },
  {
   "cell_type": "markdown",
   "metadata": {},
   "source": [
    "#### naive python"
   ]
  },
  {
   "cell_type": "code",
   "execution_count": 18,
   "metadata": {
    "collapsed": false,
    "scrolled": true
   },
   "outputs": [
    {
     "name": "stdout",
     "output_type": "stream",
     "text": [
      "10 loops, best of 3: 105 ms per loop\n"
     ]
    }
   ],
   "source": [
    "%timeit nv_py_regular_linreg(X, y, np.zeros(num_features), alpha=0.5, L1_ratio=1)"
   ]
  },
  {
   "cell_type": "markdown",
   "metadata": {},
   "source": [
    "#### python with ProcessPoolExecutor"
   ]
  },
  {
   "cell_type": "code",
   "execution_count": 19,
   "metadata": {
    "collapsed": false
   },
   "outputs": [
    {
     "name": "stdout",
     "output_type": "stream",
     "text": [
      "1 loop, best of 3: 2.24 s per loop\n"
     ]
    }
   ],
   "source": [
    "%timeit mp_py_regular_linreg(X, y, np.zeros(num_features), alpha=0.5, L1_ratio=1)"
   ]
  },
  {
   "cell_type": "markdown",
   "metadata": {},
   "source": [
    "#### scikit-learn"
   ]
  },
  {
   "cell_type": "code",
   "execution_count": 20,
   "metadata": {
    "collapsed": false
   },
   "outputs": [
    {
     "name": "stdout",
     "output_type": "stream",
     "text": [
      "1000 loops, best of 3: 309 µs per loop\n"
     ]
    }
   ],
   "source": [
    "%timeit lasso.fit(X, y)"
   ]
  },
  {
   "cell_type": "markdown",
   "metadata": {},
   "source": [
    "#### python with c++"
   ]
  },
  {
   "cell_type": "code",
   "execution_count": 21,
   "metadata": {
    "collapsed": false
   },
   "outputs": [
    {
     "name": "stdout",
     "output_type": "stream",
     "text": [
      "CPU times: user 48.2 ms, sys: 0 ns, total: 48.2 ms\n",
      "Wall time: 47.7 ms\n"
     ]
    }
   ],
   "source": [
    "%time cy_regularized_linreg.py_regularized_linreg(X.reshape((np.prod(X.shape),)), y, num_samples, num_features, \\\n",
    "                                                  np.zeros(num_features), 1, 0.5, 1000, 0.001)"
   ]
  },
  {
   "cell_type": "markdown",
   "metadata": {
    "collapsed": true
   },
   "source": [
    "### elastic net"
   ]
  },
  {
   "cell_type": "markdown",
   "metadata": {},
   "source": [
    "#### naive python"
   ]
  },
  {
   "cell_type": "code",
   "execution_count": 22,
   "metadata": {
    "collapsed": false
   },
   "outputs": [
    {
     "name": "stdout",
     "output_type": "stream",
     "text": [
      "10 loops, best of 3: 105 ms per loop\n"
     ]
    }
   ],
   "source": [
    "%timeit nv_py_regular_linreg(X, y, np.zeros(num_features), alpha=0.5, L1_ratio=1)"
   ]
  },
  {
   "cell_type": "markdown",
   "metadata": {},
   "source": [
    "#### python with ProcessPoolExecutor"
   ]
  },
  {
   "cell_type": "code",
   "execution_count": 23,
   "metadata": {
    "collapsed": false
   },
   "outputs": [
    {
     "name": "stdout",
     "output_type": "stream",
     "text": [
      "1 loop, best of 3: 2.25 s per loop\n"
     ]
    }
   ],
   "source": [
    "%timeit mp_py_regular_linreg(X, y, np.zeros(num_features), alpha=1, L1_ratio=0.5)"
   ]
  },
  {
   "cell_type": "markdown",
   "metadata": {},
   "source": [
    "#### scikit-learn"
   ]
  },
  {
   "cell_type": "code",
   "execution_count": 24,
   "metadata": {
    "collapsed": false
   },
   "outputs": [
    {
     "name": "stdout",
     "output_type": "stream",
     "text": [
      "1000 loops, best of 3: 308 µs per loop\n"
     ]
    }
   ],
   "source": [
    "%timeit enet.fit(X, y)"
   ]
  },
  {
   "cell_type": "markdown",
   "metadata": {},
   "source": [
    "#### python with c++"
   ]
  },
  {
   "cell_type": "code",
   "execution_count": 25,
   "metadata": {
    "collapsed": false
   },
   "outputs": [
    {
     "name": "stdout",
     "output_type": "stream",
     "text": [
      "10 loops, best of 3: 46.5 ms per loop\n"
     ]
    }
   ],
   "source": [
    "%timeit cy_regularized_linreg.py_regularized_linreg(X.reshape((np.prod(X.shape),)), y, \\\n",
    "                                            num_samples, num_features, np.zeros(num_features), 1, 0.5, 1000, 0.001)"
   ]
  },
  {
   "cell_type": "markdown",
   "metadata": {},
   "source": [
    "## Conclusion"
   ]
  },
  {
   "cell_type": "markdown",
   "metadata": {},
   "source": [
    "Our Python code with C++ wrapped by Cython obviously improves the efficiency by roughly 50%.\n",
    "\n",
    "The ProcessPool just lowers the computing speed."
   ]
  }
 ],
 "metadata": {
  "kernelspec": {
   "display_name": "Python 3",
   "language": "python",
   "name": "python3"
  },
  "language_info": {
   "codemirror_mode": {
    "name": "ipython",
    "version": 3
   },
   "file_extension": ".py",
   "mimetype": "text/x-python",
   "name": "python",
   "nbconvert_exporter": "python",
   "pygments_lexer": "ipython3",
   "version": "3.4.4"
  }
 },
 "nbformat": 4,
 "nbformat_minor": 0
}
