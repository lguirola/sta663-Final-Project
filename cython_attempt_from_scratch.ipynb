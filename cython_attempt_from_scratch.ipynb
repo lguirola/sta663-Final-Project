{
 "cells": [
  {
   "cell_type": "code",
   "execution_count": 1,
   "metadata": {
    "collapsed": false
   },
   "outputs": [],
   "source": [
    "import numpy as np"
   ]
  },
  {
   "cell_type": "code",
   "execution_count": 2,
   "metadata": {
    "collapsed": true
   },
   "outputs": [],
   "source": [
    "#Generate some data to play with\n",
    "np.random.seed(42)\n",
    "pp = 100\n",
    "n = 100000\n",
    "n_samples, n_features =n , pp\n",
    "data_X = np.random.randn(n_samples, n_features)\n",
    "coef = 3 * np.random.randn(n_features)\n",
    "inds = np.arange(n_features)\n",
    "np.random.shuffle(inds)\n",
    "coef[inds[5:]] = 0  # sparsify coef\n",
    "data_y = np.dot(data_X, coef)\n",
    "# add noise\n",
    "data_y += 0.02 * np.random.normal((n_samples,))"
   ]
  },
  {
   "cell_type": "code",
   "execution_count": 3,
   "metadata": {
    "collapsed": false
   },
   "outputs": [],
   "source": [
    "#Import packages\n",
    "import numba\n",
    "from numba import jit"
   ]
  },
  {
   "cell_type": "code",
   "execution_count": 4,
   "metadata": {
    "collapsed": false
   },
   "outputs": [],
   "source": [
    "residual = np.empty([n])\n",
    "result = np.empty([n])\n",
    "beta = np.random.randn(n_features)\n",
    "k = 1\n",
    "data = data_X\n",
    "y = data_y\n",
    "#Soft threshold operator\n",
    "def S(z, gamma):\n",
    "    if np.abs(z) - gamma > 0:\n",
    "        return np.sign(z)*(np.abs(z) - gamma)\n",
    "    else:\n",
    "        return 0"
   ]
  },
  {
   "cell_type": "code",
   "execution_count": 5,
   "metadata": {
    "collapsed": true
   },
   "outputs": [],
   "source": [
    "@jit( cache=True)\n",
    "def myUpdate(residual, result, beta, data, y, n, l1_ratio, alpha,z):\n",
    "    for k in range(pp):\n",
    "        for j in range(n):\n",
    "            for i in range(pp):\n",
    "                if i != k:\n",
    "                    result[j] += beta[i]*data[j,i]\n",
    "            residual[j] = y[j]-result[j]\n",
    "        for j in range(n): \n",
    "            z+=(1/n)* data[j,k]*residual[j]\n",
    "        beta[k]=S(z, alpha*l1_ratio)/(1+alpha*(1-l1_ratio))\n",
    "    return beta"
   ]
  },
  {
   "cell_type": "code",
   "execution_count": null,
   "metadata": {
    "collapsed": false
   },
   "outputs": [],
   "source": [
    "myUpdate(residual, result, beta, data, y,n,1,.5,1)"
   ]
  },
  {
   "cell_type": "code",
   "execution_count": null,
   "metadata": {
    "collapsed": true
   },
   "outputs": [],
   "source": []
  }
 ],
 "metadata": {
  "kernelspec": {
   "display_name": "Python 3",
   "language": "python",
   "name": "python3"
  },
  "language_info": {
   "codemirror_mode": {
    "name": "ipython",
    "version": 3
   },
   "file_extension": ".py",
   "mimetype": "text/x-python",
   "name": "python",
   "nbconvert_exporter": "python",
   "pygments_lexer": "ipython3",
   "version": "3.5.1"
  }
 },
 "nbformat": 4,
 "nbformat_minor": 0
}
